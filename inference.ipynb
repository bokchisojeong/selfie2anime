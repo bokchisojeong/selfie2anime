{
 "cells": [
  {
   "cell_type": "code",
   "execution_count": 1,
   "metadata": {},
   "outputs": [],
   "source": [
    "import torch\n",
    "import torchvision\n",
    "from networks import ResnetGenerator\n",
    "from IPython.display import Video\n",
    "from tqdm.notebook import trange\n",
    "from skimage.exposure import match_histograms"
   ]
  },
  {
   "cell_type": "code",
   "execution_count": 2,
   "metadata": {},
   "outputs": [],
   "source": [
    "def to_tensor(x, device):\n",
    "    x = x.type(torch.float) / 255.0\n",
    "    x = (x - 0.5) / 0.5\n",
    "    x = x.permute(0, 3, 1, 2)\n",
    "    x = x.to(device)\n",
    "    return x\n",
    "\n",
    "def to_video(x):\n",
    "    x = x.permute(0, 2, 3, 1)\n",
    "    x = (x * 0.5) + 0.5\n",
    "    x = x * 255.0\n",
    "    x = x.type(torch.uint8)\n",
    "    x = x.cpu()\n",
    "    return x"
   ]
  },
  {
   "cell_type": "code",
   "execution_count": 3,
   "metadata": {},
   "outputs": [],
   "source": [
    "def match_histogram(video):\n",
    "    reference = video[0].numpy()\n",
    "    output_video = torch.zeros_like(video)\n",
    "    for i in trange(video.size(0)):\n",
    "        old_frame = video[i].numpy()\n",
    "        new_frame = match_histograms(old_frame, reference, multichannel=True)\n",
    "        output_video[i] = torch.from_numpy(new_frame)\n",
    "    return output_video"
   ]
  },
  {
   "cell_type": "code",
   "execution_count": 4,
   "metadata": {},
   "outputs": [],
   "source": [
    "def process_video(model, input_video_path, output_video_path):\n",
    "    raw_input_video, _, _ = torchvision.io.read_video(input_video_path, pts_unit=\"sec\")\n",
    "    input_video = match_histogram(raw_input_video)\n",
    "    input_tensor = to_tensor(input_video, device)\n",
    "    output_tensor = torch.zeros_like(input_tensor)\n",
    "    \n",
    "    with torch.no_grad():\n",
    "        for i in trange(input_tensor.size(0)):\n",
    "            input_frame = input_tensor[i].unsqueeze(0)\n",
    "            output_frame, _ ,_ = model(input_frame)\n",
    "            output_tensor[i] = output_frame\n",
    "    \n",
    "    output_video = to_video(output_tensor)\n",
    "    output_video = match_histogram(output_video)\n",
    "    \n",
    "    merge = torch.cat((raw_input_video, output_video), dim=2)\n",
    "    torchvision.io.write_video(output_video_path, merge, fps=24.0)"
   ]
  },
  {
   "cell_type": "code",
   "execution_count": 5,
   "metadata": {},
   "outputs": [],
   "source": [
    "def get_model(device):\n",
    "    model = ResnetGenerator()\n",
    "    model.load_state_dict(torch.load(\"state_dict/genA2B_best.pt\", map_location=\"cpu\"))\n",
    "    for p in model.parameters():\n",
    "        p.required_grad = False\n",
    "    model.eval()\n",
    "    model = model.to(device)\n",
    "    return model"
   ]
  },
  {
   "cell_type": "code",
   "execution_count": 6,
   "metadata": {},
   "outputs": [],
   "source": [
    "device = torch.device(\"cuda:3\")\n",
    "input_video_path = \"media/video2.mp4\"\n",
    "output_video_path = \"media/output_video2.mp4\""
   ]
  },
  {
   "cell_type": "code",
   "execution_count": 7,
   "metadata": {},
   "outputs": [],
   "source": [
    "model = get_model(device)"
   ]
  },
  {
   "cell_type": "code",
   "execution_count": 8,
   "metadata": {},
   "outputs": [
    {
     "data": {
      "application/vnd.jupyter.widget-view+json": {
       "model_id": "a28162cd399947ed80b5ff5db236c035",
       "version_major": 2,
       "version_minor": 0
      },
      "text/plain": [
       "HBox(children=(HTML(value=''), FloatProgress(value=0.0, max=1440.0), HTML(value='')))"
      ]
     },
     "metadata": {},
     "output_type": "display_data"
    },
    {
     "name": "stdout",
     "output_type": "stream",
     "text": [
      "\n"
     ]
    },
    {
     "data": {
      "application/vnd.jupyter.widget-view+json": {
       "model_id": "f706f6099ea648ba99f4910c6d881de4",
       "version_major": 2,
       "version_minor": 0
      },
      "text/plain": [
       "HBox(children=(HTML(value=''), FloatProgress(value=0.0, max=1440.0), HTML(value='')))"
      ]
     },
     "metadata": {},
     "output_type": "display_data"
    },
    {
     "name": "stdout",
     "output_type": "stream",
     "text": [
      "\n"
     ]
    },
    {
     "data": {
      "application/vnd.jupyter.widget-view+json": {
       "model_id": "bcab1803b3ea4c37adebfcfb0ab3ec84",
       "version_major": 2,
       "version_minor": 0
      },
      "text/plain": [
       "HBox(children=(HTML(value=''), FloatProgress(value=0.0, max=1440.0), HTML(value='')))"
      ]
     },
     "metadata": {},
     "output_type": "display_data"
    },
    {
     "name": "stdout",
     "output_type": "stream",
     "text": [
      "\n"
     ]
    }
   ],
   "source": [
    "process_video(model, input_video_path, output_video_path)"
   ]
  },
  {
   "cell_type": "code",
   "execution_count": 9,
   "metadata": {},
   "outputs": [
    {
     "data": {
      "text/html": [
       "<video src=\"media/output_video2.mp4\" controls  >\n",
       "      Your browser does not support the <code>video</code> element.\n",
       "    </video>"
      ],
      "text/plain": [
       "<IPython.core.display.Video object>"
      ]
     },
     "execution_count": 9,
     "metadata": {},
     "output_type": "execute_result"
    }
   ],
   "source": [
    "Video(output_video_path)"
   ]
  },
  {
   "cell_type": "code",
   "execution_count": null,
   "metadata": {},
   "outputs": [],
   "source": []
  }
 ],
 "metadata": {
  "kernelspec": {
   "display_name": "Python [conda env:huy_base] *",
   "language": "python",
   "name": "conda-env-huy_base-py"
  },
  "language_info": {
   "codemirror_mode": {
    "name": "ipython",
    "version": 3
   },
   "file_extension": ".py",
   "mimetype": "text/x-python",
   "name": "python",
   "nbconvert_exporter": "python",
   "pygments_lexer": "ipython3",
   "version": "3.7.9"
  },
  "widgets": {
   "application/vnd.jupyter.widget-state+json": {
    "state": {
     "0c8f89a6734749588cb8cd031a8140dc": {
      "model_module": "@jupyter-widgets/base",
      "model_module_version": "1.2.0",
      "model_name": "LayoutModel",
      "state": {}
     },
     "0f06c33824e84806acd8054dc1a3b181": {
      "model_module": "@jupyter-widgets/base",
      "model_module_version": "1.2.0",
      "model_name": "LayoutModel",
      "state": {}
     },
     "18b8bb84becd4d29bed37ad5b8ef7434": {
      "model_module": "@jupyter-widgets/controls",
      "model_module_version": "1.5.0",
      "model_name": "ProgressStyleModel",
      "state": {
       "description_width": ""
      }
     },
     "20bc663a7bec4d169102201de4955cb5": {
      "model_module": "@jupyter-widgets/controls",
      "model_module_version": "1.5.0",
      "model_name": "DescriptionStyleModel",
      "state": {
       "description_width": ""
      }
     },
     "2b2df12da8c4491894aaf31e9f0387a0": {
      "model_module": "@jupyter-widgets/base",
      "model_module_version": "1.2.0",
      "model_name": "LayoutModel",
      "state": {}
     },
     "2bddd35a39a94357854412db6dd196e9": {
      "model_module": "@jupyter-widgets/controls",
      "model_module_version": "1.5.0",
      "model_name": "DescriptionStyleModel",
      "state": {
       "description_width": ""
      }
     },
     "327acd0e6e814419a557b94cfa30cf0b": {
      "model_module": "@jupyter-widgets/base",
      "model_module_version": "1.2.0",
      "model_name": "LayoutModel",
      "state": {}
     },
     "526a173ccfab409faf207ae8f0ccf4f7": {
      "model_module": "@jupyter-widgets/base",
      "model_module_version": "1.2.0",
      "model_name": "LayoutModel",
      "state": {}
     },
     "5541edc6391d4dc99ebdae714150d22a": {
      "model_module": "@jupyter-widgets/controls",
      "model_module_version": "1.5.0",
      "model_name": "HTMLModel",
      "state": {
       "layout": "IPY_MODEL_d25c7e6de7114398b5503f4e085288f1",
       "style": "IPY_MODEL_20bc663a7bec4d169102201de4955cb5",
       "value": " 1440/1440 [01:28&lt;00:00, 16.36it/s]"
      }
     },
     "5883ab2875394304927705ac74fcbf2b": {
      "model_module": "@jupyter-widgets/controls",
      "model_module_version": "1.5.0",
      "model_name": "HTMLModel",
      "state": {
       "layout": "IPY_MODEL_e90688852f084ba3b382c3e8bb25817d",
       "style": "IPY_MODEL_d839aaa859ba4db88b2622775d6ab22a",
       "value": "100%"
      }
     },
     "5ac8496811344602acb7380f279d90d8": {
      "model_module": "@jupyter-widgets/controls",
      "model_module_version": "1.5.0",
      "model_name": "ProgressStyleModel",
      "state": {
       "description_width": ""
      }
     },
     "5b6521e6d72648c59fae88f1f307cc17": {
      "model_module": "@jupyter-widgets/controls",
      "model_module_version": "1.5.0",
      "model_name": "DescriptionStyleModel",
      "state": {
       "description_width": ""
      }
     },
     "6a9effcf9c154cda8456fe03618ed1f1": {
      "model_module": "@jupyter-widgets/controls",
      "model_module_version": "1.5.0",
      "model_name": "ProgressStyleModel",
      "state": {
       "description_width": ""
      }
     },
     "812be7b5b87547e286d6b4c1c2293b58": {
      "model_module": "@jupyter-widgets/controls",
      "model_module_version": "1.5.0",
      "model_name": "FloatProgressModel",
      "state": {
       "bar_style": "success",
       "layout": "IPY_MODEL_2b2df12da8c4491894aaf31e9f0387a0",
       "max": 1440,
       "style": "IPY_MODEL_5ac8496811344602acb7380f279d90d8",
       "value": 1440
      }
     },
     "8666ecae520c42cb95a13508df0f69c7": {
      "model_module": "@jupyter-widgets/controls",
      "model_module_version": "1.5.0",
      "model_name": "HTMLModel",
      "state": {
       "layout": "IPY_MODEL_ac48ae184a2946b6903ccb2aab5d84cd",
       "style": "IPY_MODEL_5b6521e6d72648c59fae88f1f307cc17",
       "value": "100%"
      }
     },
     "96e04e51c2ca4617bf7dadd1895af0a7": {
      "model_module": "@jupyter-widgets/base",
      "model_module_version": "1.2.0",
      "model_name": "LayoutModel",
      "state": {}
     },
     "a28162cd399947ed80b5ff5db236c035": {
      "model_module": "@jupyter-widgets/controls",
      "model_module_version": "1.5.0",
      "model_name": "HBoxModel",
      "state": {
       "children": [
        "IPY_MODEL_8666ecae520c42cb95a13508df0f69c7",
        "IPY_MODEL_ed1906c03cd849d2bd009009a219a3e8",
        "IPY_MODEL_5541edc6391d4dc99ebdae714150d22a"
       ],
       "layout": "IPY_MODEL_526a173ccfab409faf207ae8f0ccf4f7"
      }
     },
     "a2a4ad4cb83e4afeab88b5e0879379cc": {
      "model_module": "@jupyter-widgets/controls",
      "model_module_version": "1.5.0",
      "model_name": "DescriptionStyleModel",
      "state": {
       "description_width": ""
      }
     },
     "ac48ae184a2946b6903ccb2aab5d84cd": {
      "model_module": "@jupyter-widgets/base",
      "model_module_version": "1.2.0",
      "model_name": "LayoutModel",
      "state": {}
     },
     "b523caf28a7d4ceb81e62cb6f3d6d601": {
      "model_module": "@jupyter-widgets/base",
      "model_module_version": "1.2.0",
      "model_name": "LayoutModel",
      "state": {}
     },
     "bcab1803b3ea4c37adebfcfb0ab3ec84": {
      "model_module": "@jupyter-widgets/controls",
      "model_module_version": "1.5.0",
      "model_name": "HBoxModel",
      "state": {
       "children": [
        "IPY_MODEL_5883ab2875394304927705ac74fcbf2b",
        "IPY_MODEL_812be7b5b87547e286d6b4c1c2293b58",
        "IPY_MODEL_d2c5f13fef234b39a33ea51d19539d0c"
       ],
       "layout": "IPY_MODEL_cfcc9eff1c5b416e9f42d0251fe2d1e8"
      }
     },
     "cdc1bb15d98547c6b32ff89b4ab054a8": {
      "model_module": "@jupyter-widgets/base",
      "model_module_version": "1.2.0",
      "model_name": "LayoutModel",
      "state": {}
     },
     "cfcc9eff1c5b416e9f42d0251fe2d1e8": {
      "model_module": "@jupyter-widgets/base",
      "model_module_version": "1.2.0",
      "model_name": "LayoutModel",
      "state": {}
     },
     "d25c7e6de7114398b5503f4e085288f1": {
      "model_module": "@jupyter-widgets/base",
      "model_module_version": "1.2.0",
      "model_name": "LayoutModel",
      "state": {}
     },
     "d2c5f13fef234b39a33ea51d19539d0c": {
      "model_module": "@jupyter-widgets/controls",
      "model_module_version": "1.5.0",
      "model_name": "HTMLModel",
      "state": {
       "layout": "IPY_MODEL_0c8f89a6734749588cb8cd031a8140dc",
       "style": "IPY_MODEL_2bddd35a39a94357854412db6dd196e9",
       "value": " 1440/1440 [01:24&lt;00:00, 16.99it/s]"
      }
     },
     "d839aaa859ba4db88b2622775d6ab22a": {
      "model_module": "@jupyter-widgets/controls",
      "model_module_version": "1.5.0",
      "model_name": "DescriptionStyleModel",
      "state": {
       "description_width": ""
      }
     },
     "d9103075cccb453ab8cbc174b2670f5b": {
      "model_module": "@jupyter-widgets/controls",
      "model_module_version": "1.5.0",
      "model_name": "HTMLModel",
      "state": {
       "layout": "IPY_MODEL_327acd0e6e814419a557b94cfa30cf0b",
       "style": "IPY_MODEL_a2a4ad4cb83e4afeab88b5e0879379cc",
       "value": "100%"
      }
     },
     "e90688852f084ba3b382c3e8bb25817d": {
      "model_module": "@jupyter-widgets/base",
      "model_module_version": "1.2.0",
      "model_name": "LayoutModel",
      "state": {}
     },
     "ec7c7cab56c84fa9b469898068a3337b": {
      "model_module": "@jupyter-widgets/controls",
      "model_module_version": "1.5.0",
      "model_name": "HTMLModel",
      "state": {
       "layout": "IPY_MODEL_b523caf28a7d4ceb81e62cb6f3d6d601",
       "style": "IPY_MODEL_f49ab61fad424dfeaabb62870aa88fc4",
       "value": " 1440/1440 [02:05&lt;00:00, 11.45it/s]"
      }
     },
     "ed1906c03cd849d2bd009009a219a3e8": {
      "model_module": "@jupyter-widgets/controls",
      "model_module_version": "1.5.0",
      "model_name": "FloatProgressModel",
      "state": {
       "bar_style": "success",
       "layout": "IPY_MODEL_cdc1bb15d98547c6b32ff89b4ab054a8",
       "max": 1440,
       "style": "IPY_MODEL_6a9effcf9c154cda8456fe03618ed1f1",
       "value": 1440
      }
     },
     "ef3efe5c27484fe9b6e75d0428f76251": {
      "model_module": "@jupyter-widgets/controls",
      "model_module_version": "1.5.0",
      "model_name": "FloatProgressModel",
      "state": {
       "bar_style": "success",
       "layout": "IPY_MODEL_96e04e51c2ca4617bf7dadd1895af0a7",
       "max": 1440,
       "style": "IPY_MODEL_18b8bb84becd4d29bed37ad5b8ef7434",
       "value": 1440
      }
     },
     "f49ab61fad424dfeaabb62870aa88fc4": {
      "model_module": "@jupyter-widgets/controls",
      "model_module_version": "1.5.0",
      "model_name": "DescriptionStyleModel",
      "state": {
       "description_width": ""
      }
     },
     "f706f6099ea648ba99f4910c6d881de4": {
      "model_module": "@jupyter-widgets/controls",
      "model_module_version": "1.5.0",
      "model_name": "HBoxModel",
      "state": {
       "children": [
        "IPY_MODEL_d9103075cccb453ab8cbc174b2670f5b",
        "IPY_MODEL_ef3efe5c27484fe9b6e75d0428f76251",
        "IPY_MODEL_ec7c7cab56c84fa9b469898068a3337b"
       ],
       "layout": "IPY_MODEL_0f06c33824e84806acd8054dc1a3b181"
      }
     }
    },
    "version_major": 2,
    "version_minor": 0
   }
  }
 },
 "nbformat": 4,
 "nbformat_minor": 4
}
