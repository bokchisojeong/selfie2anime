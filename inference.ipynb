{
 "cells": [
  {
   "cell_type": "code",
   "execution_count": 1,
   "metadata": {},
   "outputs": [],
   "source": [
    "import torch\n",
    "import torchvision\n",
    "from networks import ResnetGenerator\n",
    "from IPython.display import Video\n",
    "from tqdm.notebook import trange\n",
    "from skimage.exposure import match_histograms"
   ]
  },
  {
   "cell_type": "code",
   "execution_count": 2,
   "metadata": {},
   "outputs": [],
   "source": [
    "def to_tensor(x, device):\n",
    "    x = x.type(torch.float) / 255.0\n",
    "    x = (x - 0.5) / 0.5\n",
    "    x = x.permute(0, 3, 1, 2)\n",
    "    x = x.to(device)\n",
    "    return x\n",
    "\n",
    "def to_video(x):\n",
    "    x = x.permute(0, 2, 3, 1)\n",
    "    x = (x * 0.5) + 0.5\n",
    "    x = x * 255.0\n",
    "    x = x.type(torch.uint8)\n",
    "    x = x.cpu()\n",
    "    return x"
   ]
  },
  {
   "cell_type": "code",
   "execution_count": 3,
   "metadata": {},
   "outputs": [],
   "source": [
    "def match_histogram(video):\n",
    "    output_video = torch.zeros_like(video)\n",
    "    for i in trange(video.size(0)):\n",
    "        reference_index = 120 + (i // 240) * 240\n",
    "        reference_frame = video[reference_index].numpy()\n",
    "        old_frame = video[i].numpy()\n",
    "        new_frame = match_histograms(old_frame, reference_frame, multichannel=True)\n",
    "        output_video[i] = torch.from_numpy(new_frame)\n",
    "    return output_video"
   ]
  },
  {
   "cell_type": "code",
   "execution_count": 4,
   "metadata": {},
   "outputs": [],
   "source": [
    "def forward(model, device, input_video):\n",
    "    input_tensor = to_tensor(input_video, device)\n",
    "    output_tensor = torch.zeros_like(input_tensor)\n",
    "    with torch.no_grad():\n",
    "        for i in trange(input_tensor.size(0)):\n",
    "            input_frame = input_tensor[i].unsqueeze(0)\n",
    "            output_frame, _ ,_ = model(input_frame)\n",
    "            output_tensor[i] = output_frame\n",
    "    output_video = to_video(output_tensor)\n",
    "    return output_video"
   ]
  },
  {
   "cell_type": "code",
   "execution_count": 5,
   "metadata": {},
   "outputs": [],
   "source": [
    "def process_video(model, device, input_video_path, output_video_path):\n",
    "    input_video, _, _ = torchvision.io.read_video(input_video_path, pts_unit=\"sec\")\n",
    "    input_video_match_histogram = match_histogram(input_video)\n",
    "        \n",
    "    output_video = forward(model, device, input_video)\n",
    "    output_video_match_historgram = forward(model, device, input_video_match_histogram)\n",
    "    output_video_match_historgram = match_histogram(output_video_match_historgram)\n",
    "    \n",
    "    merge = torch.cat((input_video, output_video, output_video_match_historgram), dim=2)\n",
    "    torchvision.io.write_video(output_video_path, merge, fps=24.0)"
   ]
  },
  {
   "cell_type": "code",
   "execution_count": 6,
   "metadata": {},
   "outputs": [],
   "source": [
    "def get_model(device):\n",
    "    model = ResnetGenerator()\n",
    "    model.load_state_dict(torch.load(\"state_dict/genA2B_best.pt\", map_location=\"cpu\"))\n",
    "    for p in model.parameters():\n",
    "        p.required_grad = False\n",
    "    model.eval()\n",
    "    model = model.to(device)\n",
    "    return model"
   ]
  },
  {
   "cell_type": "code",
   "execution_count": 7,
   "metadata": {},
   "outputs": [],
   "source": [
    "device = torch.device(\"cuda:3\")\n",
    "input_video_path = \"media/input_video.mp4\"\n",
    "output_video_path = \"media/output_video.mp4\""
   ]
  },
  {
   "cell_type": "code",
   "execution_count": 8,
   "metadata": {},
   "outputs": [],
   "source": [
    "model = get_model(device)"
   ]
  },
  {
   "cell_type": "code",
   "execution_count": 9,
   "metadata": {},
   "outputs": [
    {
     "data": {
      "application/vnd.jupyter.widget-view+json": {
       "model_id": "0f47ea747b6746f1a4bcddfdb9a4cd55",
       "version_major": 2,
       "version_minor": 0
      },
      "text/plain": [
       "HBox(children=(HTML(value=''), FloatProgress(value=0.0, max=1680.0), HTML(value='')))"
      ]
     },
     "metadata": {},
     "output_type": "display_data"
    },
    {
     "name": "stdout",
     "output_type": "stream",
     "text": [
      "\n"
     ]
    },
    {
     "data": {
      "application/vnd.jupyter.widget-view+json": {
       "model_id": "02339e5f111447f992005e6bbd8c0e9b",
       "version_major": 2,
       "version_minor": 0
      },
      "text/plain": [
       "HBox(children=(HTML(value=''), FloatProgress(value=0.0, max=1680.0), HTML(value='')))"
      ]
     },
     "metadata": {},
     "output_type": "display_data"
    },
    {
     "name": "stdout",
     "output_type": "stream",
     "text": [
      "\n"
     ]
    },
    {
     "data": {
      "application/vnd.jupyter.widget-view+json": {
       "model_id": "a03aaa128bba43bdb2b633ea58d8a6d1",
       "version_major": 2,
       "version_minor": 0
      },
      "text/plain": [
       "HBox(children=(HTML(value=''), FloatProgress(value=0.0, max=1680.0), HTML(value='')))"
      ]
     },
     "metadata": {},
     "output_type": "display_data"
    },
    {
     "name": "stdout",
     "output_type": "stream",
     "text": [
      "\n"
     ]
    },
    {
     "data": {
      "application/vnd.jupyter.widget-view+json": {
       "model_id": "2c80c199f0ac4049ba97a5eea21b2f86",
       "version_major": 2,
       "version_minor": 0
      },
      "text/plain": [
       "HBox(children=(HTML(value=''), FloatProgress(value=0.0, max=1680.0), HTML(value='')))"
      ]
     },
     "metadata": {},
     "output_type": "display_data"
    },
    {
     "name": "stdout",
     "output_type": "stream",
     "text": [
      "\n"
     ]
    }
   ],
   "source": [
    "process_video(model, device, input_video_path, output_video_path)"
   ]
  },
  {
   "cell_type": "code",
   "execution_count": 10,
   "metadata": {},
   "outputs": [
    {
     "data": {
      "text/html": [
       "<video src=\"media/output_video.mp4\" controls  >\n",
       "      Your browser does not support the <code>video</code> element.\n",
       "    </video>"
      ],
      "text/plain": [
       "<IPython.core.display.Video object>"
      ]
     },
     "execution_count": 10,
     "metadata": {},
     "output_type": "execute_result"
    }
   ],
   "source": [
    "Video(output_video_path)"
   ]
  },
  {
   "cell_type": "code",
   "execution_count": null,
   "metadata": {},
   "outputs": [],
   "source": []
  }
 ],
 "metadata": {
  "kernelspec": {
   "display_name": "Python [conda env:huy_base] *",
   "language": "python",
   "name": "conda-env-huy_base-py"
  },
  "language_info": {
   "codemirror_mode": {
    "name": "ipython",
    "version": 3
   },
   "file_extension": ".py",
   "mimetype": "text/x-python",
   "name": "python",
   "nbconvert_exporter": "python",
   "pygments_lexer": "ipython3",
   "version": "3.7.9"
  },
  "widgets": {
   "application/vnd.jupyter.widget-state+json": {
    "state": {
     "00dc4918be564ee996b3a56f56422855": {
      "model_module": "@jupyter-widgets/controls",
      "model_module_version": "1.5.0",
      "model_name": "DescriptionStyleModel",
      "state": {
       "description_width": ""
      }
     },
     "02339e5f111447f992005e6bbd8c0e9b": {
      "model_module": "@jupyter-widgets/controls",
      "model_module_version": "1.5.0",
      "model_name": "HBoxModel",
      "state": {
       "children": [
        "IPY_MODEL_cc99504d45e64008b5aa7d40d2a949ce",
        "IPY_MODEL_6a87ac50206e46b0abec9ba21eac87d5",
        "IPY_MODEL_2222bc59157c4e7fb3ed5918fe0d4f0c"
       ],
       "layout": "IPY_MODEL_530191f24e1d4a4194a2786b0f3bdbf9"
      }
     },
     "0738f1e362b34e8eb8bf04e92c79eb2e": {
      "model_module": "@jupyter-widgets/base",
      "model_module_version": "1.2.0",
      "model_name": "LayoutModel",
      "state": {}
     },
     "0c7ef3c57959420b9dde53b96f2e3375": {
      "model_module": "@jupyter-widgets/controls",
      "model_module_version": "1.5.0",
      "model_name": "HTMLModel",
      "state": {
       "layout": "IPY_MODEL_8764d8cfb4944bb3b920f691021d165e",
       "style": "IPY_MODEL_235b4f64e1a949c3a64f6ca500b95152",
       "value": "100%"
      }
     },
     "0f47ea747b6746f1a4bcddfdb9a4cd55": {
      "model_module": "@jupyter-widgets/controls",
      "model_module_version": "1.5.0",
      "model_name": "HBoxModel",
      "state": {
       "children": [
        "IPY_MODEL_15caf7319849467cb04533c30993c2dd",
        "IPY_MODEL_d4a687dd42bc4926b5d733459fa1e85e",
        "IPY_MODEL_dd6f492a63e440b1a2939d5f02684ce0"
       ],
       "layout": "IPY_MODEL_e531595849094e98b5a5deb5e1476b89"
      }
     },
     "15caf7319849467cb04533c30993c2dd": {
      "model_module": "@jupyter-widgets/controls",
      "model_module_version": "1.5.0",
      "model_name": "HTMLModel",
      "state": {
       "layout": "IPY_MODEL_89dda38a69384ddc990b85147be1eea5",
       "style": "IPY_MODEL_00dc4918be564ee996b3a56f56422855",
       "value": "100%"
      }
     },
     "1a19bf6081574c8a86cd5f43fbf6ec24": {
      "model_module": "@jupyter-widgets/controls",
      "model_module_version": "1.5.0",
      "model_name": "FloatProgressModel",
      "state": {
       "bar_style": "success",
       "layout": "IPY_MODEL_6657730fb58240d1b193c1d777da247c",
       "max": 1680,
       "style": "IPY_MODEL_6c569b4595c447808ba15c58f9a8cc73",
       "value": 1680
      }
     },
     "2222bc59157c4e7fb3ed5918fe0d4f0c": {
      "model_module": "@jupyter-widgets/controls",
      "model_module_version": "1.5.0",
      "model_name": "HTMLModel",
      "state": {
       "layout": "IPY_MODEL_97f5f648a5b244429f004640175a0b1d",
       "style": "IPY_MODEL_95c2128f67ff4bb0a77fc32af1a7ca95",
       "value": " 1680/1680 [02:58&lt;00:00,  9.39it/s]"
      }
     },
     "235b4f64e1a949c3a64f6ca500b95152": {
      "model_module": "@jupyter-widgets/controls",
      "model_module_version": "1.5.0",
      "model_name": "DescriptionStyleModel",
      "state": {
       "description_width": ""
      }
     },
     "23a9ef4254474a8f95d5c985d7d6f7a3": {
      "model_module": "@jupyter-widgets/controls",
      "model_module_version": "1.5.0",
      "model_name": "HTMLModel",
      "state": {
       "layout": "IPY_MODEL_caf0a20c375b47c0bdf2c01d6e68794c",
       "style": "IPY_MODEL_b0dc8a3cf02d4aa0b918736cb9a3c370",
       "value": " 1680/1680 [00:29&lt;00:00, 56.99it/s]"
      }
     },
     "2c80c199f0ac4049ba97a5eea21b2f86": {
      "model_module": "@jupyter-widgets/controls",
      "model_module_version": "1.5.0",
      "model_name": "HBoxModel",
      "state": {
       "children": [
        "IPY_MODEL_0c7ef3c57959420b9dde53b96f2e3375",
        "IPY_MODEL_701e8aa86dce48559bc918db84b777e3",
        "IPY_MODEL_d09581a558264062a1801683091c7093"
       ],
       "layout": "IPY_MODEL_0738f1e362b34e8eb8bf04e92c79eb2e"
      }
     },
     "3291a9d7b7234be9a86f03827ac5b2e7": {
      "model_module": "@jupyter-widgets/controls",
      "model_module_version": "1.5.0",
      "model_name": "DescriptionStyleModel",
      "state": {
       "description_width": ""
      }
     },
     "466431edc870466f805a960ecb99a053": {
      "model_module": "@jupyter-widgets/controls",
      "model_module_version": "1.5.0",
      "model_name": "HTMLModel",
      "state": {
       "layout": "IPY_MODEL_f3b1d05bc3e04264b563a5e13646e4c8",
       "style": "IPY_MODEL_f70853b17e43478c9dec5993687aa622",
       "value": "100%"
      }
     },
     "4f059b244cc24ae99ab8cf7f47ba7ada": {
      "model_module": "@jupyter-widgets/controls",
      "model_module_version": "1.5.0",
      "model_name": "DescriptionStyleModel",
      "state": {
       "description_width": ""
      }
     },
     "530191f24e1d4a4194a2786b0f3bdbf9": {
      "model_module": "@jupyter-widgets/base",
      "model_module_version": "1.2.0",
      "model_name": "LayoutModel",
      "state": {}
     },
     "54eefdaa3148441b842c9500490a11cf": {
      "model_module": "@jupyter-widgets/controls",
      "model_module_version": "1.5.0",
      "model_name": "DescriptionStyleModel",
      "state": {
       "description_width": ""
      }
     },
     "5c1d97b4000d4c9d865a82e383b7c5ee": {
      "model_module": "@jupyter-widgets/base",
      "model_module_version": "1.2.0",
      "model_name": "LayoutModel",
      "state": {}
     },
     "6657730fb58240d1b193c1d777da247c": {
      "model_module": "@jupyter-widgets/base",
      "model_module_version": "1.2.0",
      "model_name": "LayoutModel",
      "state": {}
     },
     "6a87ac50206e46b0abec9ba21eac87d5": {
      "model_module": "@jupyter-widgets/controls",
      "model_module_version": "1.5.0",
      "model_name": "FloatProgressModel",
      "state": {
       "bar_style": "success",
       "layout": "IPY_MODEL_c863062b86e544f5a593300f7f20613d",
       "max": 1680,
       "style": "IPY_MODEL_df796e95dd9f435aba3b5a741e3ec8fd",
       "value": 1680
      }
     },
     "6c569b4595c447808ba15c58f9a8cc73": {
      "model_module": "@jupyter-widgets/controls",
      "model_module_version": "1.5.0",
      "model_name": "ProgressStyleModel",
      "state": {
       "description_width": ""
      }
     },
     "6d39434c6b664c1099ab891c2cc335d5": {
      "model_module": "@jupyter-widgets/controls",
      "model_module_version": "1.5.0",
      "model_name": "ProgressStyleModel",
      "state": {
       "description_width": ""
      }
     },
     "701e8aa86dce48559bc918db84b777e3": {
      "model_module": "@jupyter-widgets/controls",
      "model_module_version": "1.5.0",
      "model_name": "FloatProgressModel",
      "state": {
       "bar_style": "success",
       "layout": "IPY_MODEL_5c1d97b4000d4c9d865a82e383b7c5ee",
       "max": 1680,
       "style": "IPY_MODEL_7231aa33095241ac85e639c1bac6a33e",
       "value": 1680
      }
     },
     "7231aa33095241ac85e639c1bac6a33e": {
      "model_module": "@jupyter-widgets/controls",
      "model_module_version": "1.5.0",
      "model_name": "ProgressStyleModel",
      "state": {
       "description_width": ""
      }
     },
     "7a6dcaf8910a461fb381684ddacac8e5": {
      "model_module": "@jupyter-widgets/base",
      "model_module_version": "1.2.0",
      "model_name": "LayoutModel",
      "state": {}
     },
     "8764d8cfb4944bb3b920f691021d165e": {
      "model_module": "@jupyter-widgets/base",
      "model_module_version": "1.2.0",
      "model_name": "LayoutModel",
      "state": {}
     },
     "89dda38a69384ddc990b85147be1eea5": {
      "model_module": "@jupyter-widgets/base",
      "model_module_version": "1.2.0",
      "model_name": "LayoutModel",
      "state": {}
     },
     "95c2128f67ff4bb0a77fc32af1a7ca95": {
      "model_module": "@jupyter-widgets/controls",
      "model_module_version": "1.5.0",
      "model_name": "DescriptionStyleModel",
      "state": {
       "description_width": ""
      }
     },
     "97f5f648a5b244429f004640175a0b1d": {
      "model_module": "@jupyter-widgets/base",
      "model_module_version": "1.2.0",
      "model_name": "LayoutModel",
      "state": {}
     },
     "a03aaa128bba43bdb2b633ea58d8a6d1": {
      "model_module": "@jupyter-widgets/controls",
      "model_module_version": "1.5.0",
      "model_name": "HBoxModel",
      "state": {
       "children": [
        "IPY_MODEL_466431edc870466f805a960ecb99a053",
        "IPY_MODEL_1a19bf6081574c8a86cd5f43fbf6ec24",
        "IPY_MODEL_23a9ef4254474a8f95d5c985d7d6f7a3"
       ],
       "layout": "IPY_MODEL_d669b1badd114bbbba176803ba6ac910"
      }
     },
     "a23de9aaa61740f4b6dd81bd498eb331": {
      "model_module": "@jupyter-widgets/base",
      "model_module_version": "1.2.0",
      "model_name": "LayoutModel",
      "state": {}
     },
     "b0dc8a3cf02d4aa0b918736cb9a3c370": {
      "model_module": "@jupyter-widgets/controls",
      "model_module_version": "1.5.0",
      "model_name": "DescriptionStyleModel",
      "state": {
       "description_width": ""
      }
     },
     "c863062b86e544f5a593300f7f20613d": {
      "model_module": "@jupyter-widgets/base",
      "model_module_version": "1.2.0",
      "model_name": "LayoutModel",
      "state": {}
     },
     "c9060432867e4db1ae25df301850e935": {
      "model_module": "@jupyter-widgets/base",
      "model_module_version": "1.2.0",
      "model_name": "LayoutModel",
      "state": {}
     },
     "caf0a20c375b47c0bdf2c01d6e68794c": {
      "model_module": "@jupyter-widgets/base",
      "model_module_version": "1.2.0",
      "model_name": "LayoutModel",
      "state": {}
     },
     "cc99504d45e64008b5aa7d40d2a949ce": {
      "model_module": "@jupyter-widgets/controls",
      "model_module_version": "1.5.0",
      "model_name": "HTMLModel",
      "state": {
       "layout": "IPY_MODEL_c9060432867e4db1ae25df301850e935",
       "style": "IPY_MODEL_3291a9d7b7234be9a86f03827ac5b2e7",
       "value": "100%"
      }
     },
     "d09581a558264062a1801683091c7093": {
      "model_module": "@jupyter-widgets/controls",
      "model_module_version": "1.5.0",
      "model_name": "HTMLModel",
      "state": {
       "layout": "IPY_MODEL_7a6dcaf8910a461fb381684ddacac8e5",
       "style": "IPY_MODEL_54eefdaa3148441b842c9500490a11cf",
       "value": " 1680/1680 [01:52&lt;00:00, 14.99it/s]"
      }
     },
     "d4a687dd42bc4926b5d733459fa1e85e": {
      "model_module": "@jupyter-widgets/controls",
      "model_module_version": "1.5.0",
      "model_name": "FloatProgressModel",
      "state": {
       "bar_style": "success",
       "layout": "IPY_MODEL_ed5f850678f248bea009396c79578b22",
       "max": 1680,
       "style": "IPY_MODEL_6d39434c6b664c1099ab891c2cc335d5",
       "value": 1680
      }
     },
     "d669b1badd114bbbba176803ba6ac910": {
      "model_module": "@jupyter-widgets/base",
      "model_module_version": "1.2.0",
      "model_name": "LayoutModel",
      "state": {}
     },
     "dd6f492a63e440b1a2939d5f02684ce0": {
      "model_module": "@jupyter-widgets/controls",
      "model_module_version": "1.5.0",
      "model_name": "HTMLModel",
      "state": {
       "layout": "IPY_MODEL_a23de9aaa61740f4b6dd81bd498eb331",
       "style": "IPY_MODEL_4f059b244cc24ae99ab8cf7f47ba7ada",
       "value": " 1680/1680 [01:52&lt;00:00, 14.99it/s]"
      }
     },
     "df796e95dd9f435aba3b5a741e3ec8fd": {
      "model_module": "@jupyter-widgets/controls",
      "model_module_version": "1.5.0",
      "model_name": "ProgressStyleModel",
      "state": {
       "description_width": ""
      }
     },
     "e531595849094e98b5a5deb5e1476b89": {
      "model_module": "@jupyter-widgets/base",
      "model_module_version": "1.2.0",
      "model_name": "LayoutModel",
      "state": {}
     },
     "ed5f850678f248bea009396c79578b22": {
      "model_module": "@jupyter-widgets/base",
      "model_module_version": "1.2.0",
      "model_name": "LayoutModel",
      "state": {}
     },
     "f3b1d05bc3e04264b563a5e13646e4c8": {
      "model_module": "@jupyter-widgets/base",
      "model_module_version": "1.2.0",
      "model_name": "LayoutModel",
      "state": {}
     },
     "f70853b17e43478c9dec5993687aa622": {
      "model_module": "@jupyter-widgets/controls",
      "model_module_version": "1.5.0",
      "model_name": "DescriptionStyleModel",
      "state": {
       "description_width": ""
      }
     }
    },
    "version_major": 2,
    "version_minor": 0
   }
  }
 },
 "nbformat": 4,
 "nbformat_minor": 4
}
